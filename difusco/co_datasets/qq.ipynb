{
 "cells": [
  {
   "cell_type": "code",
   "execution_count": 4,
   "metadata": {},
   "outputs": [
    {
     "name": "stdout",
     "output_type": "stream",
     "text": [
      "Loaded \"/workspace/cado_developer2/project/pcb/diffusion/difusco/DIFUSCO/data/test\" with 1 lines\n"
     ]
    }
   ],
   "source": [
    "from tsp_graph_dataset import TSPGraphDataset\n",
    "qq = TSPGraphDataset(\"/workspace/cado_developer2/project/pcb/diffusion/difusco/DIFUSCO/data/test\")"
   ]
  },
  {
   "cell_type": "code",
   "execution_count": 6,
   "metadata": {},
   "outputs": [
    {
     "data": {
      "text/plain": [
       "(array([[0.49766367, 0.81783844],\n",
       "        [0.61211189, 0.77135992],\n",
       "        [0.86066977, 0.15063697],\n",
       "        [0.19851876, 0.81516293],\n",
       "        [0.15881535, 0.11613783],\n",
       "        [0.01290753, 0.48683344],\n",
       "        [0.33101543, 0.80263957],\n",
       "        [0.09825194, 0.05599345],\n",
       "        [0.44266265, 0.02214391],\n",
       "        [0.29072855, 0.24639444],\n",
       "        [0.73828677, 0.88922613],\n",
       "        [0.9871393 , 0.11744339],\n",
       "        [0.39378235, 0.45272981],\n",
       "        [0.53814784, 0.7906221 ],\n",
       "        [0.46583634, 0.43533225],\n",
       "        [0.56947866, 0.969259  ],\n",
       "        [0.04055615, 0.54811957],\n",
       "        [0.4625766 , 0.37647223],\n",
       "        [0.32791208, 0.81352893],\n",
       "        [0.64655232, 0.04742648],\n",
       "        [0.99495757, 0.68923564],\n",
       "        [0.92954594, 0.91811655],\n",
       "        [0.97530172, 0.39700197],\n",
       "        [0.26262609, 0.43015136],\n",
       "        [0.76453077, 0.59973081],\n",
       "        [0.08094696, 0.70454447],\n",
       "        [0.16401332, 0.03234935],\n",
       "        [0.32815036, 0.47386   ],\n",
       "        [0.06808472, 0.3827107 ],\n",
       "        [0.11855414, 0.89632852],\n",
       "        [0.76430853, 0.37540494],\n",
       "        [0.02581418, 0.90653093],\n",
       "        [0.78641778, 0.61931523],\n",
       "        [0.21158894, 0.292304  ],\n",
       "        [0.66154467, 0.88626098]]),\n",
       " array([ 0, 13,  1, 15, 34, 10, 21, 20, 32, 24, 30, 22, 11,  2, 19,  8, 26,\n",
       "         7,  4, 33,  9, 17, 14, 12, 27, 23, 28,  5, 16, 25, 31, 29,  3, 18,\n",
       "         6,  0]))"
      ]
     },
     "execution_count": 6,
     "metadata": {},
     "output_type": "execute_result"
    }
   ],
   "source": [
    "qq.get_example(0)"
   ]
  },
  {
   "cell_type": "code",
   "execution_count": null,
   "metadata": {},
   "outputs": [],
   "source": []
  }
 ],
 "metadata": {
  "kernelspec": {
   "display_name": "base",
   "language": "python",
   "name": "python3"
  },
  "language_info": {
   "codemirror_mode": {
    "name": "ipython",
    "version": 3
   },
   "file_extension": ".py",
   "mimetype": "text/x-python",
   "name": "python",
   "nbconvert_exporter": "python",
   "pygments_lexer": "ipython3",
   "version": "3.8.8"
  },
  "orig_nbformat": 4
 },
 "nbformat": 4,
 "nbformat_minor": 2
}
